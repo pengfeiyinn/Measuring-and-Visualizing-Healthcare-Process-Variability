{
 "cells": [
  {
   "cell_type": "code",
   "execution_count": 1,
   "id": "0a068f5e-01ad-4a69-9855-fbd2268c7727",
   "metadata": {},
   "outputs": [],
   "source": [
    "import pandas as pd\n",
    "import csv\n",
    "\n",
    "df = pd.read_csv('events_final.csv')"
   ]
  },
  {
   "cell_type": "code",
   "execution_count": 2,
   "id": "9684096c-30d1-4f2a-9b06-02b21054a0ce",
   "metadata": {},
   "outputs": [],
   "source": [
    "df['starttime'] = pd.to_datetime(df['starttime'])\n",
    "df['trace_start'] = df.groupby('patientid')['starttime'].transform('min')\n",
    "df['cutoff_time'] = df['trace_start'] + pd.Timedelta(days=2)"
   ]
  },
  {
   "cell_type": "code",
   "execution_count": 3,
   "id": "116c0917-5cac-4be9-8fa9-a4df11656cb1",
   "metadata": {},
   "outputs": [],
   "source": [
    "truncated_df = df[df['starttime'] <= df['cutoff_time']]"
   ]
  },
  {
   "cell_type": "code",
   "execution_count": 4,
   "id": "59746118-1f72-4dc0-b332-6ed5bb4622c2",
   "metadata": {},
   "outputs": [],
   "source": [
    "truncated_df = truncated_df[['patientid', 'events', 'starttime']]"
   ]
  },
  {
   "cell_type": "code",
   "execution_count": 5,
   "id": "088a7ae3-0c56-45d6-aabc-e1bea1ee662d",
   "metadata": {},
   "outputs": [],
   "source": [
    "truncated_df.to_csv('truncated_events_final_twoday.csv', index=False)"
   ]
  },
  {
   "cell_type": "code",
   "execution_count": null,
   "id": "bae8bbb5-b9cf-4dd9-8868-2bb65946b0a2",
   "metadata": {},
   "outputs": [],
   "source": []
  }
 ],
 "metadata": {
  "kernelspec": {
   "display_name": "Python 3 (ipykernel)",
   "language": "python",
   "name": "python3"
  },
  "language_info": {
   "codemirror_mode": {
    "name": "ipython",
    "version": 3
   },
   "file_extension": ".py",
   "mimetype": "text/x-python",
   "name": "python",
   "nbconvert_exporter": "python",
   "pygments_lexer": "ipython3",
   "version": "3.11.7"
  }
 },
 "nbformat": 4,
 "nbformat_minor": 5
}

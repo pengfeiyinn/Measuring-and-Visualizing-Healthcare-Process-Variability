{
 "cells": [
  {
   "cell_type": "code",
   "execution_count": 1,
   "metadata": {},
   "outputs": [],
   "source": [
    "#Before we start, we first run some sql to prepare data.\n",
    "#1. Run events_lab, events_drug, events_service to generate ‘events_lab.csv’, ‘events_drug.csv’, ‘events_service.csv’\n",
    "#2. Run patient.sql to generate ‘complete_patient.csv’\n",
    "#3. Run age.sql to generate age.csv then run charlson.sql to generate charlson.csv in mimiciv-derived database. "
   ]
  },
  {
   "cell_type": "code",
   "execution_count": 2,
   "metadata": {
    "collapsed": false,
    "jupyter": {
     "outputs_hidden": false
    },
    "pycharm": {
     "name": "#%%\n"
    }
   },
   "outputs": [],
   "source": [
    "import csv\n",
    "import pandas as pd"
   ]
  },
  {
   "cell_type": "code",
   "execution_count": 3,
   "metadata": {},
   "outputs": [],
   "source": [
    "mapping_dict = {\n",
    "    'Hemoglobin': 'CBC', 'Hematocrit': 'CBC', 'Potassium, Whole Blood': 'Electrolytes',\n",
    "    'Free Calcium': 'Calcium', 'White Blood Cells': 'CBC', 'MCHC': 'CBC',\n",
    "    'Red Blood Cells': 'CBC', 'MCH': 'CBC', 'MCV': 'CBC', 'RDW': 'CBC',\n",
    "    'Hematocrit, Calculated': 'CBC', 'INR(PT)': 'PT', 'Sodium, Whole Blood': 'Electrolytes',\n",
    "    'Chloride, Whole Blood': 'Electrolytes', 'Calcium, Total': 'Calcium',\n",
    "    'pH': 'ABG', 'Calculated Total CO2': 'ABG', 'Base Excess': 'ABG',\n",
    "    'pO2': 'ABG', 'pCO2': 'ABG', 'Potassium': 'Electrolytes', 'Chloride': 'Electrolytes',\n",
    "    'Sodium': 'Electrolytes', 'Platelet Count': 'CBC','Pneumococcal Vac Polyvalent': 'Pneumococcal Vaccine',\n",
    "    'PNEUMOcoccal 23-valent polysaccharide vaccine': 'Pneumococcal Vaccine',\n",
    "    'Phenylephrine': 'PHENYLEPHrine',\n",
    "    'Oxycodone-Acetaminophen (5mg-325mg)': 'Oxycodone-Acetaminophen',\n",
    "    'NS': 'Sodium Chloride 0.9%',\n",
    "    'Metoprolol Tartrate': 'Metoprolol',\n",
    "    'Metoprolol Succinate XL': 'Metoprolol',\n",
    "    'LR': 'Lactated Ringers',\n",
    "    'Insulin Human Regular': 'Insulin',\n",
    "    'Influenza Virus Vaccine': 'Influenza Vaccine',\n",
    "    'Influenza Vaccine Quadrivalent': 'Influenza Vaccine',\n",
    "    'Heparin Sodium': 'Heparin',\n",
    "    'Epinephrine': 'EPINEPHrine',\n",
    "    'Docusate Sodium (Liquid)': 'Docusate Sodium',\n",
    "    'Dextrose 5%': '5% Dextrose',\n",
    "    'D5W (EXCEL BAG)': '5% Dextrose',\n",
    "    'D5W': '5% Dextrose',\n",
    "    'Aspirin EC': 'Aspirin',\n",
    "    'Albuterol Inhaler': 'Albuterol',\n",
    "    'Albuterol 0.083% Neb Soln': 'Albuterol',\n",
    "    'Albumin 5% (25g / 500mL)': 'Albumin',\n",
    "    'Albumin 5% (12.5g / 250mL)': 'Albumin',\n",
    "    'Albumin 25% (12.5g / 50mL)': 'Albumin',\n",
    "    '5% Dextrose (EXCEL BAG)': '5% Dextrose',\n",
    "    '0.9% Sodium Chloride (Mini Bag Plus)': 'Sodium Chloride 0.9%',\n",
    "    '0.9% Sodium Chloride': 'Sodium Chloride 0.9%',\n",
    "    'Furosemide': 'Diuretic',\n",
    "    'Morphine Sulfate': 'Opioid',\n",
    "    'HYDROmorphone (Dilaudid)': 'Opioid',\n",
    "    'Atorvastatin': 'Lipid Lowering',\n",
    "    'Acetaminophen IV': 'Acetaminophen',\n",
    "    'Simvastatin': 'Lipid Lowering',\n",
    "    'TraMADOL (Ultram)': 'Opioid',\n",
    "    'OxycoDONE (Immediate Release)': 'Opioid',\n",
    "    'Meperidine': 'Opioid'\n",
    "}"
   ]
  },
  {
   "cell_type": "code",
   "execution_count": 4,
   "metadata": {},
   "outputs": [
    {
     "name": "stdout",
     "output_type": "stream",
     "text": [
      "166935\n"
     ]
    }
   ],
   "source": [
    "events_lab = pd.read_csv('events_lab.csv')\n",
    "events_lab_filtered1 = events_lab[~events_lab['events'].str.contains('Specimen Type', case=False)]\n",
    "events_lab_filtered1.to_csv('filtered_events_full_lab.csv', index=False)\n",
    "print(len(events_lab_filtered1))"
   ]
  },
  {
   "cell_type": "code",
   "execution_count": 5,
   "metadata": {},
   "outputs": [
    {
     "name": "stdout",
     "output_type": "stream",
     "text": [
      "68947\n"
     ]
    }
   ],
   "source": [
    "events_drug = pd.read_csv('events_drug.csv')\n",
    "events_drug_filtered2 = events_drug.loc[(events_drug['events'] != 'Bag') & (events_drug['events'] != 'Syringe')]\n",
    "print(len(events_drug_filtered2))"
   ]
  },
  {
   "cell_type": "code",
   "execution_count": 6,
   "metadata": {},
   "outputs": [
    {
     "name": "stdout",
     "output_type": "stream",
     "text": [
      "849\n"
     ]
    }
   ],
   "source": [
    "events_service = pd.read_csv('events_service.csv')\n",
    "print(len(events_service))\n",
    "combined_df = pd.concat([events_lab_filtered1, events_drug_filtered2, events_service])\n",
    "combined_df.to_csv('events_full.csv', index=False)"
   ]
  },
  {
   "cell_type": "code",
   "execution_count": 7,
   "metadata": {
    "collapsed": false,
    "jupyter": {
     "outputs_hidden": false
    },
    "pycharm": {
     "name": "#%%\n"
    }
   },
   "outputs": [
    {
     "name": "stdout",
     "output_type": "stream",
     "text": [
      "   patientid                events            starttime\n",
      "1   10002013           Base Excess  2160-05-18 09:19:00\n",
      "2   10002013  Calculated Total CO2  2160-05-18 09:19:00\n",
      "3   10002013          Free Calcium  2160-05-18 09:19:00\n",
      "4   10002013               Glucose  2160-05-18 09:19:00\n",
      "5   10002013            Hemoglobin  2160-05-18 09:19:00\n",
      "236731\n"
     ]
    }
   ],
   "source": [
    "print(combined_df.head())\n",
    "print(len(combined_df))"
   ]
  },
  {
   "cell_type": "code",
   "execution_count": 8,
   "metadata": {
    "collapsed": false,
    "jupyter": {
     "outputs_hidden": false
    },
    "pycharm": {
     "name": "#%%\n"
    }
   },
   "outputs": [
    {
     "name": "stdout",
     "output_type": "stream",
     "text": [
      "   patientid   events            starttime\n",
      "1   10002013      ABG  2160-05-18 09:19:00\n",
      "2   10002013      ABG  2160-05-18 09:19:00\n",
      "3   10002013  Calcium  2160-05-18 09:19:00\n",
      "4   10002013  Glucose  2160-05-18 09:19:00\n",
      "5   10002013      CBC  2160-05-18 09:19:00\n",
      "236731\n"
     ]
    }
   ],
   "source": [
    "# Replace event names with event names in dictionary to combine some events,if the event name doesn't exist in the dictionary, keep the original name\n",
    "combined_df['events'] = combined_df['events'].replace(mapping_dict)\n",
    "combined_df.to_csv('events_combined.csv', index=False)  \n",
    "print(combined_df.head())\n",
    "print(len(combined_df))"
   ]
  },
  {
   "cell_type": "code",
   "execution_count": 9,
   "metadata": {},
   "outputs": [
    {
     "name": "stdout",
     "output_type": "stream",
     "text": [
      "   patientid   events            starttime\n",
      "0   10002013    CSURG  2160-05-18 01:49:32\n",
      "1   10002013      ABG  2160-05-18 09:19:00\n",
      "2   10002013      ABG  2160-05-18 09:19:00\n",
      "3   10002013  Calcium  2160-05-18 09:19:00\n",
      "4   10002013  Glucose  2160-05-18 09:19:00\n",
      "236731\n"
     ]
    }
   ],
   "source": [
    "combined_df['starttime'] = pd.to_datetime(combined_df['starttime'])\n",
    "sorted_df = combined_df.sort_values(by=['patientid', 'starttime'], ascending=[True, True])\n",
    "print(sorted_df.head())\n",
    "print(len(sorted_df))"
   ]
  },
  
  {
   "cell_type": "code",
   "execution_count": 11,
   "metadata": {},
   "outputs": [],
   "source": [
    "df_unique = sorted_df.drop_duplicates()"
   ]
  },
  {
   "cell_type": "code",
   "execution_count": 12,
   "metadata": {},
   "outputs": [
    {
     "name": "stdout",
     "output_type": "stream",
     "text": [
      "   patientid   events           starttime\n",
      "0   10002013    CSURG 2160-05-18 01:49:32\n",
      "1   10002013      ABG 2160-05-18 09:19:00\n",
      "3   10002013  Calcium 2160-05-18 09:19:00\n",
      "4   10002013  Glucose 2160-05-18 09:19:00\n",
      "5   10002013      CBC 2160-05-18 09:19:00\n",
      "127846\n"
     ]
    }
   ],
   "source": [
    "print(df_unique.head())\n",
    "print(len(df_unique))"
   ]
  },
  {
   "cell_type": "code",
   "execution_count": 13,
   "metadata": {},
   "outputs": [
    {
     "name": "stdout",
     "output_type": "stream",
     "text": [
      "847\n"
     ]
    }
   ],
   "source": [
    "patient_count = df_unique['patientid'].nunique()\n",
    "print(patient_count)"
   ]
  },
  {
   "cell_type": "code",
   "execution_count": 14,
   "metadata": {},
   "outputs": [
    {
     "name": "stdout",
     "output_type": "stream",
     "text": [
      "58\n"
     ]
    }
   ],
   "source": [
    "event_count = df_unique['events'].nunique()\n",
    "print(event_count)"
   ]
  },
  {
   "cell_type": "code",
   "execution_count": 15,
   "metadata": {},
   "outputs": [],
   "source": [
    "df_unique.to_csv('events_final.csv', index=False)  "
   ]
  },
  {
   "cell_type": "code",
   "execution_count": null,
   "metadata": {},
   "outputs": [],
   "source": []
  }
 ],
 "metadata": {
  "kernelspec": {
   "display_name": "Python 3 (ipykernel)",
   "language": "python",
   "name": "python3"
  },
  "language_info": {
   "codemirror_mode": {
    "name": "ipython",
    "version": 3
   },
   "file_extension": ".py",
   "mimetype": "text/x-python",
   "name": "python",
   "nbconvert_exporter": "python",
   "pygments_lexer": "ipython3",
   "version": "3.11.7"
  }
 },
 "nbformat": 4,
 "nbformat_minor": 4
}
